{
 "cells": [
  {
   "cell_type": "markdown",
   "id": "7196054f",
   "metadata": {},
   "source": [
    "# Working with APIs"
   ]
  },
  {
   "cell_type": "markdown",
   "id": "0547b71e",
   "metadata": {},
   "source": [
    "API stands for Application programming interface<br>\n",
    "APIs are a way for applications to talk to eachother<br>\n",
    "In python we use the requests package to handle the connection<br>\n",
    "<small><strong>Note: It is requests with an s not request(this is a different package)</strong></small><br>\n",
    "Most API's communicate with data in the form of JSON<br>\n",
    "JSON stands for JavaScript Object Notation"
   ]
  },
  {
   "cell_type": "code",
   "execution_count": 8,
   "id": "4db9d154",
   "metadata": {},
   "outputs": [],
   "source": [
    "#import the packages we need:\n",
    "import requests"
   ]
  },
  {
   "cell_type": "markdown",
   "id": "e8c2ce51",
   "metadata": {},
   "source": [
    "We will be connecting to the Ergast F1 Racer API today:\n",
    "http://ergast.com/mrd/\n",
    "\n",
    "to view JSON data nicely in the Chrome browser install the extension JSONview"
   ]
  },
  {
   "cell_type": "code",
   "execution_count": 10,
   "id": "52c440c6",
   "metadata": {},
   "outputs": [],
   "source": [
    "r = requests.get('https://www.python.org')"
   ]
  },
  {
   "cell_type": "code",
   "execution_count": 6,
   "id": "f60c1b4a",
   "metadata": {},
   "outputs": [],
   "source": [
    "url = \"http://ergast.com/api/f1/2008/5/driverStandings.json\""
   ]
  },
  {
   "cell_type": "code",
   "execution_count": 11,
   "id": "7b63a204",
   "metadata": {},
   "outputs": [
    {
     "name": "stdout",
     "output_type": "stream",
     "text": [
      "<Response [200]>\n"
     ]
    }
   ],
   "source": [
    "#response object\n",
    "r = requests.get('https://www.python.org')\n",
    "response = requests.get(url)\n",
    "print(response)"
   ]
  },
  {
   "cell_type": "code",
   "execution_count": 12,
   "id": "c6d1fdaf",
   "metadata": {},
   "outputs": [
    {
     "name": "stdout",
     "output_type": "stream",
     "text": [
      "200\n",
      "True\n"
     ]
    }
   ],
   "source": [
    "#check and make sure we got a successful response from the API\n",
    "print(response.status_code)\n",
    "print(response.ok)"
   ]
  },
  {
   "cell_type": "code",
   "execution_count": 13,
   "id": "92e6cd2c",
   "metadata": {},
   "outputs": [
    {
     "data": {
      "text/plain": [
       "{'MRData': {'xmlns': 'http://ergast.com/mrd/1.5',\n",
       "  'series': 'f1',\n",
       "  'url': 'http://ergast.com/api/f1/2008/5/driverstandings.json',\n",
       "  'limit': '30',\n",
       "  'offset': '0',\n",
       "  'total': '22',\n",
       "  'StandingsTable': {'season': '2008',\n",
       "   'round': '5',\n",
       "   'StandingsLists': [{'season': '2008',\n",
       "     'round': '5',\n",
       "     'DriverStandings': [{'position': '1',\n",
       "       'positionText': '1',\n",
       "       'points': '35',\n",
       "       'wins': '2',\n",
       "       'Driver': {'driverId': 'raikkonen',\n",
       "        'permanentNumber': '7',\n",
       "        'code': 'RAI',\n",
       "        'url': 'http://en.wikipedia.org/wiki/Kimi_R%C3%A4ikk%C3%B6nen',\n",
       "        'givenName': 'Kimi',\n",
       "        'familyName': 'Räikkönen',\n",
       "        'dateOfBirth': '1979-10-17',\n",
       "        'nationality': 'Finnish'},\n",
       "       'Constructors': [{'constructorId': 'ferrari',\n",
       "         'url': 'http://en.wikipedia.org/wiki/Scuderia_Ferrari',\n",
       "         'name': 'Ferrari',\n",
       "         'nationality': 'Italian'}]},\n",
       "      {'position': '2',\n",
       "       'positionText': '2',\n",
       "       'points': '28',\n",
       "       'wins': '2',\n",
       "       'Driver': {'driverId': 'massa',\n",
       "        'permanentNumber': '19',\n",
       "        'code': 'MAS',\n",
       "        'url': 'http://en.wikipedia.org/wiki/Felipe_Massa',\n",
       "        'givenName': 'Felipe',\n",
       "        'familyName': 'Massa',\n",
       "        'dateOfBirth': '1981-04-25',\n",
       "        'nationality': 'Brazilian'},\n",
       "       'Constructors': [{'constructorId': 'ferrari',\n",
       "         'url': 'http://en.wikipedia.org/wiki/Scuderia_Ferrari',\n",
       "         'name': 'Ferrari',\n",
       "         'nationality': 'Italian'}]},\n",
       "      {'position': '3',\n",
       "       'positionText': '3',\n",
       "       'points': '28',\n",
       "       'wins': '1',\n",
       "       'Driver': {'driverId': 'hamilton',\n",
       "        'permanentNumber': '44',\n",
       "        'code': 'HAM',\n",
       "        'url': 'http://en.wikipedia.org/wiki/Lewis_Hamilton',\n",
       "        'givenName': 'Lewis',\n",
       "        'familyName': 'Hamilton',\n",
       "        'dateOfBirth': '1985-01-07',\n",
       "        'nationality': 'British'},\n",
       "       'Constructors': [{'constructorId': 'mclaren',\n",
       "         'url': 'http://en.wikipedia.org/wiki/McLaren',\n",
       "         'name': 'McLaren',\n",
       "         'nationality': 'British'}]},\n",
       "      {'position': '4',\n",
       "       'positionText': '4',\n",
       "       'points': '24',\n",
       "       'wins': '0',\n",
       "       'Driver': {'driverId': 'kubica',\n",
       "        'permanentNumber': '88',\n",
       "        'code': 'KUB',\n",
       "        'url': 'http://en.wikipedia.org/wiki/Robert_Kubica',\n",
       "        'givenName': 'Robert',\n",
       "        'familyName': 'Kubica',\n",
       "        'dateOfBirth': '1984-12-07',\n",
       "        'nationality': 'Polish'},\n",
       "       'Constructors': [{'constructorId': 'bmw_sauber',\n",
       "         'url': 'http://en.wikipedia.org/wiki/BMW_Sauber',\n",
       "         'name': 'BMW Sauber',\n",
       "         'nationality': 'German'}]},\n",
       "      {'position': '5',\n",
       "       'positionText': '5',\n",
       "       'points': '20',\n",
       "       'wins': '0',\n",
       "       'Driver': {'driverId': 'heidfeld',\n",
       "        'code': 'HEI',\n",
       "        'url': 'http://en.wikipedia.org/wiki/Nick_Heidfeld',\n",
       "        'givenName': 'Nick',\n",
       "        'familyName': 'Heidfeld',\n",
       "        'dateOfBirth': '1977-05-10',\n",
       "        'nationality': 'German'},\n",
       "       'Constructors': [{'constructorId': 'bmw_sauber',\n",
       "         'url': 'http://en.wikipedia.org/wiki/BMW_Sauber',\n",
       "         'name': 'BMW Sauber',\n",
       "         'nationality': 'German'}]},\n",
       "      {'position': '6',\n",
       "       'positionText': '6',\n",
       "       'points': '14',\n",
       "       'wins': '0',\n",
       "       'Driver': {'driverId': 'kovalainen',\n",
       "        'code': 'KOV',\n",
       "        'url': 'http://en.wikipedia.org/wiki/Heikki_Kovalainen',\n",
       "        'givenName': 'Heikki',\n",
       "        'familyName': 'Kovalainen',\n",
       "        'dateOfBirth': '1981-10-19',\n",
       "        'nationality': 'Finnish'},\n",
       "       'Constructors': [{'constructorId': 'mclaren',\n",
       "         'url': 'http://en.wikipedia.org/wiki/McLaren',\n",
       "         'name': 'McLaren',\n",
       "         'nationality': 'British'}]},\n",
       "      {'position': '7',\n",
       "       'positionText': '7',\n",
       "       'points': '10',\n",
       "       'wins': '0',\n",
       "       'Driver': {'driverId': 'webber',\n",
       "        'code': 'WEB',\n",
       "        'url': 'http://en.wikipedia.org/wiki/Mark_Webber_(racing_driver)',\n",
       "        'givenName': 'Mark',\n",
       "        'familyName': 'Webber',\n",
       "        'dateOfBirth': '1976-08-27',\n",
       "        'nationality': 'Australian'},\n",
       "       'Constructors': [{'constructorId': 'red_bull',\n",
       "         'url': 'http://en.wikipedia.org/wiki/Red_Bull_Racing',\n",
       "         'name': 'Red Bull',\n",
       "         'nationality': 'Austrian'}]},\n",
       "      {'position': '8',\n",
       "       'positionText': '8',\n",
       "       'points': '9',\n",
       "       'wins': '0',\n",
       "       'Driver': {'driverId': 'alonso',\n",
       "        'permanentNumber': '14',\n",
       "        'code': 'ALO',\n",
       "        'url': 'http://en.wikipedia.org/wiki/Fernando_Alonso',\n",
       "        'givenName': 'Fernando',\n",
       "        'familyName': 'Alonso',\n",
       "        'dateOfBirth': '1981-07-29',\n",
       "        'nationality': 'Spanish'},\n",
       "       'Constructors': [{'constructorId': 'renault',\n",
       "         'url': 'http://en.wikipedia.org/wiki/Renault_in_Formula_One',\n",
       "         'name': 'Renault',\n",
       "         'nationality': 'French'}]},\n",
       "      {'position': '9',\n",
       "       'positionText': '9',\n",
       "       'points': '9',\n",
       "       'wins': '0',\n",
       "       'Driver': {'driverId': 'trulli',\n",
       "        'code': 'TRU',\n",
       "        'url': 'http://en.wikipedia.org/wiki/Jarno_Trulli',\n",
       "        'givenName': 'Jarno',\n",
       "        'familyName': 'Trulli',\n",
       "        'dateOfBirth': '1974-07-13',\n",
       "        'nationality': 'Italian'},\n",
       "       'Constructors': [{'constructorId': 'toyota',\n",
       "         'url': 'http://en.wikipedia.org/wiki/Toyota_Racing',\n",
       "         'name': 'Toyota',\n",
       "         'nationality': 'Japanese'}]},\n",
       "      {'position': '10',\n",
       "       'positionText': '10',\n",
       "       'points': '8',\n",
       "       'wins': '0',\n",
       "       'Driver': {'driverId': 'rosberg',\n",
       "        'permanentNumber': '6',\n",
       "        'code': 'ROS',\n",
       "        'url': 'http://en.wikipedia.org/wiki/Nico_Rosberg',\n",
       "        'givenName': 'Nico',\n",
       "        'familyName': 'Rosberg',\n",
       "        'dateOfBirth': '1985-06-27',\n",
       "        'nationality': 'German'},\n",
       "       'Constructors': [{'constructorId': 'williams',\n",
       "         'url': 'http://en.wikipedia.org/wiki/Williams_Grand_Prix_Engineering',\n",
       "         'name': 'Williams',\n",
       "         'nationality': 'British'}]},\n",
       "      {'position': '11',\n",
       "       'positionText': '11',\n",
       "       'points': '5',\n",
       "       'wins': '0',\n",
       "       'Driver': {'driverId': 'nakajima',\n",
       "        'code': 'NAK',\n",
       "        'url': 'http://en.wikipedia.org/wiki/Kazuki_Nakajima',\n",
       "        'givenName': 'Kazuki',\n",
       "        'familyName': 'Nakajima',\n",
       "        'dateOfBirth': '1985-01-11',\n",
       "        'nationality': 'Japanese'},\n",
       "       'Constructors': [{'constructorId': 'williams',\n",
       "         'url': 'http://en.wikipedia.org/wiki/Williams_Grand_Prix_Engineering',\n",
       "         'name': 'Williams',\n",
       "         'nationality': 'British'}]},\n",
       "      {'position': '12',\n",
       "       'positionText': '12',\n",
       "       'points': '3',\n",
       "       'wins': '0',\n",
       "       'Driver': {'driverId': 'button',\n",
       "        'permanentNumber': '22',\n",
       "        'code': 'BUT',\n",
       "        'url': 'http://en.wikipedia.org/wiki/Jenson_Button',\n",
       "        'givenName': 'Jenson',\n",
       "        'familyName': 'Button',\n",
       "        'dateOfBirth': '1980-01-19',\n",
       "        'nationality': 'British'},\n",
       "       'Constructors': [{'constructorId': 'honda',\n",
       "         'url': 'http://en.wikipedia.org/wiki/Honda_Racing_F1',\n",
       "         'name': 'Honda',\n",
       "         'nationality': 'Japanese'}]},\n",
       "      {'position': '13',\n",
       "       'positionText': '13',\n",
       "       'points': '2',\n",
       "       'wins': '0',\n",
       "       'Driver': {'driverId': 'bourdais',\n",
       "        'code': 'BOU',\n",
       "        'url': 'http://en.wikipedia.org/wiki/S%C3%A9bastien_Bourdais',\n",
       "        'givenName': 'Sébastien',\n",
       "        'familyName': 'Bourdais',\n",
       "        'dateOfBirth': '1979-02-28',\n",
       "        'nationality': 'French'},\n",
       "       'Constructors': [{'constructorId': 'toro_rosso',\n",
       "         'url': 'http://en.wikipedia.org/wiki/Scuderia_Toro_Rosso',\n",
       "         'name': 'Toro Rosso',\n",
       "         'nationality': 'Italian'}]},\n",
       "      {'position': '14',\n",
       "       'positionText': '14',\n",
       "       'points': '0',\n",
       "       'wins': '0',\n",
       "       'Driver': {'driverId': 'coulthard',\n",
       "        'code': 'COU',\n",
       "        'url': 'http://en.wikipedia.org/wiki/David_Coulthard',\n",
       "        'givenName': 'David',\n",
       "        'familyName': 'Coulthard',\n",
       "        'dateOfBirth': '1971-03-27',\n",
       "        'nationality': 'British'},\n",
       "       'Constructors': [{'constructorId': 'red_bull',\n",
       "         'url': 'http://en.wikipedia.org/wiki/Red_Bull_Racing',\n",
       "         'name': 'Red Bull',\n",
       "         'nationality': 'Austrian'}]},\n",
       "      {'position': '15',\n",
       "       'positionText': '15',\n",
       "       'points': '0',\n",
       "       'wins': '0',\n",
       "       'Driver': {'driverId': 'glock',\n",
       "        'code': 'GLO',\n",
       "        'url': 'http://en.wikipedia.org/wiki/Timo_Glock',\n",
       "        'givenName': 'Timo',\n",
       "        'familyName': 'Glock',\n",
       "        'dateOfBirth': '1982-03-18',\n",
       "        'nationality': 'German'},\n",
       "       'Constructors': [{'constructorId': 'toyota',\n",
       "         'url': 'http://en.wikipedia.org/wiki/Toyota_Racing',\n",
       "         'name': 'Toyota',\n",
       "         'nationality': 'Japanese'}]},\n",
       "      {'position': '16',\n",
       "       'positionText': '16',\n",
       "       'points': '0',\n",
       "       'wins': '0',\n",
       "       'Driver': {'driverId': 'fisichella',\n",
       "        'code': 'FIS',\n",
       "        'url': 'http://en.wikipedia.org/wiki/Giancarlo_Fisichella',\n",
       "        'givenName': 'Giancarlo',\n",
       "        'familyName': 'Fisichella',\n",
       "        'dateOfBirth': '1973-01-14',\n",
       "        'nationality': 'Italian'},\n",
       "       'Constructors': [{'constructorId': 'force_india',\n",
       "         'url': 'http://en.wikipedia.org/wiki/Racing_Point_Force_India',\n",
       "         'name': 'Force India',\n",
       "         'nationality': 'Indian'}]},\n",
       "      {'position': '17',\n",
       "       'positionText': '17',\n",
       "       'points': '0',\n",
       "       'wins': '0',\n",
       "       'Driver': {'driverId': 'barrichello',\n",
       "        'code': 'BAR',\n",
       "        'url': 'http://en.wikipedia.org/wiki/Rubens_Barrichello',\n",
       "        'givenName': 'Rubens',\n",
       "        'familyName': 'Barrichello',\n",
       "        'dateOfBirth': '1972-05-23',\n",
       "        'nationality': 'Brazilian'},\n",
       "       'Constructors': [{'constructorId': 'honda',\n",
       "         'url': 'http://en.wikipedia.org/wiki/Honda_Racing_F1',\n",
       "         'name': 'Honda',\n",
       "         'nationality': 'Japanese'}]},\n",
       "      {'position': '18',\n",
       "       'positionText': '18',\n",
       "       'points': '0',\n",
       "       'wins': '0',\n",
       "       'Driver': {'driverId': 'piquet_jr',\n",
       "        'code': 'PIQ',\n",
       "        'url': 'http://en.wikipedia.org/wiki/Nelson_Piquet,_Jr.',\n",
       "        'givenName': 'Nelson',\n",
       "        'familyName': 'Piquet Jr.',\n",
       "        'dateOfBirth': '1985-07-25',\n",
       "        'nationality': 'Brazilian'},\n",
       "       'Constructors': [{'constructorId': 'renault',\n",
       "         'url': 'http://en.wikipedia.org/wiki/Renault_in_Formula_One',\n",
       "         'name': 'Renault',\n",
       "         'nationality': 'French'}]},\n",
       "      {'position': '19',\n",
       "       'positionText': '19',\n",
       "       'points': '0',\n",
       "       'wins': '0',\n",
       "       'Driver': {'driverId': 'sato',\n",
       "        'code': 'SAT',\n",
       "        'url': 'http://en.wikipedia.org/wiki/Takuma_Sato',\n",
       "        'givenName': 'Takuma',\n",
       "        'familyName': 'Sato',\n",
       "        'dateOfBirth': '1977-01-28',\n",
       "        'nationality': 'Japanese'},\n",
       "       'Constructors': [{'constructorId': 'super_aguri',\n",
       "         'url': 'http://en.wikipedia.org/wiki/Super_Aguri_F1',\n",
       "         'name': 'Super Aguri',\n",
       "         'nationality': 'Japanese'}]},\n",
       "      {'position': '20',\n",
       "       'positionText': '20',\n",
       "       'points': '0',\n",
       "       'wins': '0',\n",
       "       'Driver': {'driverId': 'davidson',\n",
       "        'code': 'DAV',\n",
       "        'url': 'http://en.wikipedia.org/wiki/Anthony_Davidson',\n",
       "        'givenName': 'Anthony',\n",
       "        'familyName': 'Davidson',\n",
       "        'dateOfBirth': '1979-04-18',\n",
       "        'nationality': 'British'},\n",
       "       'Constructors': [{'constructorId': 'super_aguri',\n",
       "         'url': 'http://en.wikipedia.org/wiki/Super_Aguri_F1',\n",
       "         'name': 'Super Aguri',\n",
       "         'nationality': 'Japanese'}]},\n",
       "      {'position': '21',\n",
       "       'positionText': '21',\n",
       "       'points': '0',\n",
       "       'wins': '0',\n",
       "       'Driver': {'driverId': 'sutil',\n",
       "        'permanentNumber': '99',\n",
       "        'code': 'SUT',\n",
       "        'url': 'http://en.wikipedia.org/wiki/Adrian_Sutil',\n",
       "        'givenName': 'Adrian',\n",
       "        'familyName': 'Sutil',\n",
       "        'dateOfBirth': '1983-01-11',\n",
       "        'nationality': 'German'},\n",
       "       'Constructors': [{'constructorId': 'force_india',\n",
       "         'url': 'http://en.wikipedia.org/wiki/Racing_Point_Force_India',\n",
       "         'name': 'Force India',\n",
       "         'nationality': 'Indian'}]},\n",
       "      {'position': '22',\n",
       "       'positionText': '22',\n",
       "       'points': '0',\n",
       "       'wins': '0',\n",
       "       'Driver': {'driverId': 'vettel',\n",
       "        'permanentNumber': '5',\n",
       "        'code': 'VET',\n",
       "        'url': 'http://en.wikipedia.org/wiki/Sebastian_Vettel',\n",
       "        'givenName': 'Sebastian',\n",
       "        'familyName': 'Vettel',\n",
       "        'dateOfBirth': '1987-07-03',\n",
       "        'nationality': 'German'},\n",
       "       'Constructors': [{'constructorId': 'toro_rosso',\n",
       "         'url': 'http://en.wikipedia.org/wiki/Scuderia_Toro_Rosso',\n",
       "         'name': 'Toro Rosso',\n",
       "         'nationality': 'Italian'}]}]}]}}}"
      ]
     },
     "execution_count": 13,
     "metadata": {},
     "output_type": "execute_result"
    }
   ],
   "source": [
    "#view the response as a JSON\n",
    "response.json()"
   ]
  },
  {
   "cell_type": "code",
   "execution_count": 15,
   "id": "bbbc72b2",
   "metadata": {},
   "outputs": [
    {
     "data": {
      "text/plain": [
       "dict"
      ]
     },
     "execution_count": 15,
     "metadata": {},
     "output_type": "execute_result"
    }
   ],
   "source": [
    "type(response.json())"
   ]
  },
  {
   "cell_type": "code",
   "execution_count": 16,
   "id": "f074dfcf",
   "metadata": {},
   "outputs": [
    {
     "data": {
      "text/plain": [
       "[{'season': '2008',\n",
       "  'round': '5',\n",
       "  'DriverStandings': [{'position': '1',\n",
       "    'positionText': '1',\n",
       "    'points': '35',\n",
       "    'wins': '2',\n",
       "    'Driver': {'driverId': 'raikkonen',\n",
       "     'permanentNumber': '7',\n",
       "     'code': 'RAI',\n",
       "     'url': 'http://en.wikipedia.org/wiki/Kimi_R%C3%A4ikk%C3%B6nen',\n",
       "     'givenName': 'Kimi',\n",
       "     'familyName': 'Räikkönen',\n",
       "     'dateOfBirth': '1979-10-17',\n",
       "     'nationality': 'Finnish'},\n",
       "    'Constructors': [{'constructorId': 'ferrari',\n",
       "      'url': 'http://en.wikipedia.org/wiki/Scuderia_Ferrari',\n",
       "      'name': 'Ferrari',\n",
       "      'nationality': 'Italian'}]},\n",
       "   {'position': '2',\n",
       "    'positionText': '2',\n",
       "    'points': '28',\n",
       "    'wins': '2',\n",
       "    'Driver': {'driverId': 'massa',\n",
       "     'permanentNumber': '19',\n",
       "     'code': 'MAS',\n",
       "     'url': 'http://en.wikipedia.org/wiki/Felipe_Massa',\n",
       "     'givenName': 'Felipe',\n",
       "     'familyName': 'Massa',\n",
       "     'dateOfBirth': '1981-04-25',\n",
       "     'nationality': 'Brazilian'},\n",
       "    'Constructors': [{'constructorId': 'ferrari',\n",
       "      'url': 'http://en.wikipedia.org/wiki/Scuderia_Ferrari',\n",
       "      'name': 'Ferrari',\n",
       "      'nationality': 'Italian'}]},\n",
       "   {'position': '3',\n",
       "    'positionText': '3',\n",
       "    'points': '28',\n",
       "    'wins': '1',\n",
       "    'Driver': {'driverId': 'hamilton',\n",
       "     'permanentNumber': '44',\n",
       "     'code': 'HAM',\n",
       "     'url': 'http://en.wikipedia.org/wiki/Lewis_Hamilton',\n",
       "     'givenName': 'Lewis',\n",
       "     'familyName': 'Hamilton',\n",
       "     'dateOfBirth': '1985-01-07',\n",
       "     'nationality': 'British'},\n",
       "    'Constructors': [{'constructorId': 'mclaren',\n",
       "      'url': 'http://en.wikipedia.org/wiki/McLaren',\n",
       "      'name': 'McLaren',\n",
       "      'nationality': 'British'}]},\n",
       "   {'position': '4',\n",
       "    'positionText': '4',\n",
       "    'points': '24',\n",
       "    'wins': '0',\n",
       "    'Driver': {'driverId': 'kubica',\n",
       "     'permanentNumber': '88',\n",
       "     'code': 'KUB',\n",
       "     'url': 'http://en.wikipedia.org/wiki/Robert_Kubica',\n",
       "     'givenName': 'Robert',\n",
       "     'familyName': 'Kubica',\n",
       "     'dateOfBirth': '1984-12-07',\n",
       "     'nationality': 'Polish'},\n",
       "    'Constructors': [{'constructorId': 'bmw_sauber',\n",
       "      'url': 'http://en.wikipedia.org/wiki/BMW_Sauber',\n",
       "      'name': 'BMW Sauber',\n",
       "      'nationality': 'German'}]},\n",
       "   {'position': '5',\n",
       "    'positionText': '5',\n",
       "    'points': '20',\n",
       "    'wins': '0',\n",
       "    'Driver': {'driverId': 'heidfeld',\n",
       "     'code': 'HEI',\n",
       "     'url': 'http://en.wikipedia.org/wiki/Nick_Heidfeld',\n",
       "     'givenName': 'Nick',\n",
       "     'familyName': 'Heidfeld',\n",
       "     'dateOfBirth': '1977-05-10',\n",
       "     'nationality': 'German'},\n",
       "    'Constructors': [{'constructorId': 'bmw_sauber',\n",
       "      'url': 'http://en.wikipedia.org/wiki/BMW_Sauber',\n",
       "      'name': 'BMW Sauber',\n",
       "      'nationality': 'German'}]},\n",
       "   {'position': '6',\n",
       "    'positionText': '6',\n",
       "    'points': '14',\n",
       "    'wins': '0',\n",
       "    'Driver': {'driverId': 'kovalainen',\n",
       "     'code': 'KOV',\n",
       "     'url': 'http://en.wikipedia.org/wiki/Heikki_Kovalainen',\n",
       "     'givenName': 'Heikki',\n",
       "     'familyName': 'Kovalainen',\n",
       "     'dateOfBirth': '1981-10-19',\n",
       "     'nationality': 'Finnish'},\n",
       "    'Constructors': [{'constructorId': 'mclaren',\n",
       "      'url': 'http://en.wikipedia.org/wiki/McLaren',\n",
       "      'name': 'McLaren',\n",
       "      'nationality': 'British'}]},\n",
       "   {'position': '7',\n",
       "    'positionText': '7',\n",
       "    'points': '10',\n",
       "    'wins': '0',\n",
       "    'Driver': {'driverId': 'webber',\n",
       "     'code': 'WEB',\n",
       "     'url': 'http://en.wikipedia.org/wiki/Mark_Webber_(racing_driver)',\n",
       "     'givenName': 'Mark',\n",
       "     'familyName': 'Webber',\n",
       "     'dateOfBirth': '1976-08-27',\n",
       "     'nationality': 'Australian'},\n",
       "    'Constructors': [{'constructorId': 'red_bull',\n",
       "      'url': 'http://en.wikipedia.org/wiki/Red_Bull_Racing',\n",
       "      'name': 'Red Bull',\n",
       "      'nationality': 'Austrian'}]},\n",
       "   {'position': '8',\n",
       "    'positionText': '8',\n",
       "    'points': '9',\n",
       "    'wins': '0',\n",
       "    'Driver': {'driverId': 'alonso',\n",
       "     'permanentNumber': '14',\n",
       "     'code': 'ALO',\n",
       "     'url': 'http://en.wikipedia.org/wiki/Fernando_Alonso',\n",
       "     'givenName': 'Fernando',\n",
       "     'familyName': 'Alonso',\n",
       "     'dateOfBirth': '1981-07-29',\n",
       "     'nationality': 'Spanish'},\n",
       "    'Constructors': [{'constructorId': 'renault',\n",
       "      'url': 'http://en.wikipedia.org/wiki/Renault_in_Formula_One',\n",
       "      'name': 'Renault',\n",
       "      'nationality': 'French'}]},\n",
       "   {'position': '9',\n",
       "    'positionText': '9',\n",
       "    'points': '9',\n",
       "    'wins': '0',\n",
       "    'Driver': {'driverId': 'trulli',\n",
       "     'code': 'TRU',\n",
       "     'url': 'http://en.wikipedia.org/wiki/Jarno_Trulli',\n",
       "     'givenName': 'Jarno',\n",
       "     'familyName': 'Trulli',\n",
       "     'dateOfBirth': '1974-07-13',\n",
       "     'nationality': 'Italian'},\n",
       "    'Constructors': [{'constructorId': 'toyota',\n",
       "      'url': 'http://en.wikipedia.org/wiki/Toyota_Racing',\n",
       "      'name': 'Toyota',\n",
       "      'nationality': 'Japanese'}]},\n",
       "   {'position': '10',\n",
       "    'positionText': '10',\n",
       "    'points': '8',\n",
       "    'wins': '0',\n",
       "    'Driver': {'driverId': 'rosberg',\n",
       "     'permanentNumber': '6',\n",
       "     'code': 'ROS',\n",
       "     'url': 'http://en.wikipedia.org/wiki/Nico_Rosberg',\n",
       "     'givenName': 'Nico',\n",
       "     'familyName': 'Rosberg',\n",
       "     'dateOfBirth': '1985-06-27',\n",
       "     'nationality': 'German'},\n",
       "    'Constructors': [{'constructorId': 'williams',\n",
       "      'url': 'http://en.wikipedia.org/wiki/Williams_Grand_Prix_Engineering',\n",
       "      'name': 'Williams',\n",
       "      'nationality': 'British'}]},\n",
       "   {'position': '11',\n",
       "    'positionText': '11',\n",
       "    'points': '5',\n",
       "    'wins': '0',\n",
       "    'Driver': {'driverId': 'nakajima',\n",
       "     'code': 'NAK',\n",
       "     'url': 'http://en.wikipedia.org/wiki/Kazuki_Nakajima',\n",
       "     'givenName': 'Kazuki',\n",
       "     'familyName': 'Nakajima',\n",
       "     'dateOfBirth': '1985-01-11',\n",
       "     'nationality': 'Japanese'},\n",
       "    'Constructors': [{'constructorId': 'williams',\n",
       "      'url': 'http://en.wikipedia.org/wiki/Williams_Grand_Prix_Engineering',\n",
       "      'name': 'Williams',\n",
       "      'nationality': 'British'}]},\n",
       "   {'position': '12',\n",
       "    'positionText': '12',\n",
       "    'points': '3',\n",
       "    'wins': '0',\n",
       "    'Driver': {'driverId': 'button',\n",
       "     'permanentNumber': '22',\n",
       "     'code': 'BUT',\n",
       "     'url': 'http://en.wikipedia.org/wiki/Jenson_Button',\n",
       "     'givenName': 'Jenson',\n",
       "     'familyName': 'Button',\n",
       "     'dateOfBirth': '1980-01-19',\n",
       "     'nationality': 'British'},\n",
       "    'Constructors': [{'constructorId': 'honda',\n",
       "      'url': 'http://en.wikipedia.org/wiki/Honda_Racing_F1',\n",
       "      'name': 'Honda',\n",
       "      'nationality': 'Japanese'}]},\n",
       "   {'position': '13',\n",
       "    'positionText': '13',\n",
       "    'points': '2',\n",
       "    'wins': '0',\n",
       "    'Driver': {'driverId': 'bourdais',\n",
       "     'code': 'BOU',\n",
       "     'url': 'http://en.wikipedia.org/wiki/S%C3%A9bastien_Bourdais',\n",
       "     'givenName': 'Sébastien',\n",
       "     'familyName': 'Bourdais',\n",
       "     'dateOfBirth': '1979-02-28',\n",
       "     'nationality': 'French'},\n",
       "    'Constructors': [{'constructorId': 'toro_rosso',\n",
       "      'url': 'http://en.wikipedia.org/wiki/Scuderia_Toro_Rosso',\n",
       "      'name': 'Toro Rosso',\n",
       "      'nationality': 'Italian'}]},\n",
       "   {'position': '14',\n",
       "    'positionText': '14',\n",
       "    'points': '0',\n",
       "    'wins': '0',\n",
       "    'Driver': {'driverId': 'coulthard',\n",
       "     'code': 'COU',\n",
       "     'url': 'http://en.wikipedia.org/wiki/David_Coulthard',\n",
       "     'givenName': 'David',\n",
       "     'familyName': 'Coulthard',\n",
       "     'dateOfBirth': '1971-03-27',\n",
       "     'nationality': 'British'},\n",
       "    'Constructors': [{'constructorId': 'red_bull',\n",
       "      'url': 'http://en.wikipedia.org/wiki/Red_Bull_Racing',\n",
       "      'name': 'Red Bull',\n",
       "      'nationality': 'Austrian'}]},\n",
       "   {'position': '15',\n",
       "    'positionText': '15',\n",
       "    'points': '0',\n",
       "    'wins': '0',\n",
       "    'Driver': {'driverId': 'glock',\n",
       "     'code': 'GLO',\n",
       "     'url': 'http://en.wikipedia.org/wiki/Timo_Glock',\n",
       "     'givenName': 'Timo',\n",
       "     'familyName': 'Glock',\n",
       "     'dateOfBirth': '1982-03-18',\n",
       "     'nationality': 'German'},\n",
       "    'Constructors': [{'constructorId': 'toyota',\n",
       "      'url': 'http://en.wikipedia.org/wiki/Toyota_Racing',\n",
       "      'name': 'Toyota',\n",
       "      'nationality': 'Japanese'}]},\n",
       "   {'position': '16',\n",
       "    'positionText': '16',\n",
       "    'points': '0',\n",
       "    'wins': '0',\n",
       "    'Driver': {'driverId': 'fisichella',\n",
       "     'code': 'FIS',\n",
       "     'url': 'http://en.wikipedia.org/wiki/Giancarlo_Fisichella',\n",
       "     'givenName': 'Giancarlo',\n",
       "     'familyName': 'Fisichella',\n",
       "     'dateOfBirth': '1973-01-14',\n",
       "     'nationality': 'Italian'},\n",
       "    'Constructors': [{'constructorId': 'force_india',\n",
       "      'url': 'http://en.wikipedia.org/wiki/Racing_Point_Force_India',\n",
       "      'name': 'Force India',\n",
       "      'nationality': 'Indian'}]},\n",
       "   {'position': '17',\n",
       "    'positionText': '17',\n",
       "    'points': '0',\n",
       "    'wins': '0',\n",
       "    'Driver': {'driverId': 'barrichello',\n",
       "     'code': 'BAR',\n",
       "     'url': 'http://en.wikipedia.org/wiki/Rubens_Barrichello',\n",
       "     'givenName': 'Rubens',\n",
       "     'familyName': 'Barrichello',\n",
       "     'dateOfBirth': '1972-05-23',\n",
       "     'nationality': 'Brazilian'},\n",
       "    'Constructors': [{'constructorId': 'honda',\n",
       "      'url': 'http://en.wikipedia.org/wiki/Honda_Racing_F1',\n",
       "      'name': 'Honda',\n",
       "      'nationality': 'Japanese'}]},\n",
       "   {'position': '18',\n",
       "    'positionText': '18',\n",
       "    'points': '0',\n",
       "    'wins': '0',\n",
       "    'Driver': {'driverId': 'piquet_jr',\n",
       "     'code': 'PIQ',\n",
       "     'url': 'http://en.wikipedia.org/wiki/Nelson_Piquet,_Jr.',\n",
       "     'givenName': 'Nelson',\n",
       "     'familyName': 'Piquet Jr.',\n",
       "     'dateOfBirth': '1985-07-25',\n",
       "     'nationality': 'Brazilian'},\n",
       "    'Constructors': [{'constructorId': 'renault',\n",
       "      'url': 'http://en.wikipedia.org/wiki/Renault_in_Formula_One',\n",
       "      'name': 'Renault',\n",
       "      'nationality': 'French'}]},\n",
       "   {'position': '19',\n",
       "    'positionText': '19',\n",
       "    'points': '0',\n",
       "    'wins': '0',\n",
       "    'Driver': {'driverId': 'sato',\n",
       "     'code': 'SAT',\n",
       "     'url': 'http://en.wikipedia.org/wiki/Takuma_Sato',\n",
       "     'givenName': 'Takuma',\n",
       "     'familyName': 'Sato',\n",
       "     'dateOfBirth': '1977-01-28',\n",
       "     'nationality': 'Japanese'},\n",
       "    'Constructors': [{'constructorId': 'super_aguri',\n",
       "      'url': 'http://en.wikipedia.org/wiki/Super_Aguri_F1',\n",
       "      'name': 'Super Aguri',\n",
       "      'nationality': 'Japanese'}]},\n",
       "   {'position': '20',\n",
       "    'positionText': '20',\n",
       "    'points': '0',\n",
       "    'wins': '0',\n",
       "    'Driver': {'driverId': 'davidson',\n",
       "     'code': 'DAV',\n",
       "     'url': 'http://en.wikipedia.org/wiki/Anthony_Davidson',\n",
       "     'givenName': 'Anthony',\n",
       "     'familyName': 'Davidson',\n",
       "     'dateOfBirth': '1979-04-18',\n",
       "     'nationality': 'British'},\n",
       "    'Constructors': [{'constructorId': 'super_aguri',\n",
       "      'url': 'http://en.wikipedia.org/wiki/Super_Aguri_F1',\n",
       "      'name': 'Super Aguri',\n",
       "      'nationality': 'Japanese'}]},\n",
       "   {'position': '21',\n",
       "    'positionText': '21',\n",
       "    'points': '0',\n",
       "    'wins': '0',\n",
       "    'Driver': {'driverId': 'sutil',\n",
       "     'permanentNumber': '99',\n",
       "     'code': 'SUT',\n",
       "     'url': 'http://en.wikipedia.org/wiki/Adrian_Sutil',\n",
       "     'givenName': 'Adrian',\n",
       "     'familyName': 'Sutil',\n",
       "     'dateOfBirth': '1983-01-11',\n",
       "     'nationality': 'German'},\n",
       "    'Constructors': [{'constructorId': 'force_india',\n",
       "      'url': 'http://en.wikipedia.org/wiki/Racing_Point_Force_India',\n",
       "      'name': 'Force India',\n",
       "      'nationality': 'Indian'}]},\n",
       "   {'position': '22',\n",
       "    'positionText': '22',\n",
       "    'points': '0',\n",
       "    'wins': '0',\n",
       "    'Driver': {'driverId': 'vettel',\n",
       "     'permanentNumber': '5',\n",
       "     'code': 'VET',\n",
       "     'url': 'http://en.wikipedia.org/wiki/Sebastian_Vettel',\n",
       "     'givenName': 'Sebastian',\n",
       "     'familyName': 'Vettel',\n",
       "     'dateOfBirth': '1987-07-03',\n",
       "     'nationality': 'German'},\n",
       "    'Constructors': [{'constructorId': 'toro_rosso',\n",
       "      'url': 'http://en.wikipedia.org/wiki/Scuderia_Toro_Rosso',\n",
       "      'name': 'Toro Rosso',\n",
       "      'nationality': 'Italian'}]}]}]"
      ]
     },
     "execution_count": 16,
     "metadata": {},
     "output_type": "execute_result"
    }
   ],
   "source": [
    "# We only want the Driver Standings\n",
    "data = response.json()['MRData']['StandingsTable']['StandingsLists']\n",
    "data"
   ]
  },
  {
   "cell_type": "code",
   "execution_count": 32,
   "id": "be46a950",
   "metadata": {},
   "outputs": [
    {
     "ename": "TypeError",
     "evalue": "string indices must be integers",
     "output_type": "error",
     "traceback": [
      "\u001b[1;31m---------------------------------------------------------------------------\u001b[0m",
      "\u001b[1;31mTypeError\u001b[0m                                 Traceback (most recent call last)",
      "\u001b[1;32m~\\AppData\\Local\\Temp/ipykernel_21400/888329712.py\u001b[0m in \u001b[0;36m<module>\u001b[1;34m\u001b[0m\n\u001b[0;32m     16\u001b[0m     \u001b[1;32mreturn\u001b[0m \u001b[0mnew_data\u001b[0m\u001b[1;33m\u001b[0m\u001b[1;33m\u001b[0m\u001b[0m\n\u001b[0;32m     17\u001b[0m \u001b[1;33m\u001b[0m\u001b[0m\n\u001b[1;32m---> 18\u001b[1;33m \u001b[0mget_racer_info\u001b[0m\u001b[1;33m(\u001b[0m\u001b[0mdata\u001b[0m\u001b[1;33m)\u001b[0m\u001b[1;33m\u001b[0m\u001b[1;33m\u001b[0m\u001b[0m\n\u001b[0m",
      "\u001b[1;32m~\\AppData\\Local\\Temp/ipykernel_21400/888329712.py\u001b[0m in \u001b[0;36mget_racer_info\u001b[1;34m(data)\u001b[0m\n\u001b[0;32m      3\u001b[0m     \u001b[1;32mfor\u001b[0m \u001b[0mracer\u001b[0m \u001b[1;32min\u001b[0m \u001b[0mdata\u001b[0m\u001b[1;33m:\u001b[0m\u001b[1;33m\u001b[0m\u001b[1;33m\u001b[0m\u001b[0m\n\u001b[0;32m      4\u001b[0m         \u001b[0mracer_dict\u001b[0m \u001b[1;33m=\u001b[0m \u001b[1;33m{\u001b[0m\u001b[1;33m}\u001b[0m\u001b[1;33m\u001b[0m\u001b[1;33m\u001b[0m\u001b[0m\n\u001b[1;32m----> 5\u001b[1;33m         \u001b[0mracer_name\u001b[0m \u001b[1;33m=\u001b[0m \u001b[1;34mf\"{racer['Driver']['givenName']} {racer['Driver']['familyName']}\"\u001b[0m\u001b[1;33m\u001b[0m\u001b[1;33m\u001b[0m\u001b[0m\n\u001b[0m\u001b[0;32m      6\u001b[0m         racer_dict[racer_name] = {\n\u001b[0;32m      7\u001b[0m             \u001b[1;34m'first_name'\u001b[0m \u001b[1;33m:\u001b[0m \u001b[0mracer\u001b[0m\u001b[1;33m[\u001b[0m\u001b[1;34m'Driver'\u001b[0m\u001b[1;33m]\u001b[0m\u001b[1;33m[\u001b[0m\u001b[1;34m'givenName'\u001b[0m\u001b[1;33m]\u001b[0m\u001b[1;33m,\u001b[0m\u001b[1;33m\u001b[0m\u001b[1;33m\u001b[0m\u001b[0m\n",
      "\u001b[1;31mTypeError\u001b[0m: string indices must be integers"
     ]
    }
   ],
   "source": [
    "def get_racer_info(data):\n",
    "    new_data = []\n",
    "    for racer in data:\n",
    "        racer_dict = {}\n",
    "        racer_name = f\"{racer['Driver']['givenName']} {racer['Driver']['familyName']}\"\n",
    "        racer_dict[racer_name] = {\n",
    "            'first_name' : racer['Driver']['givenName'],\n",
    "            'last_name' : racer['Driver']['familyName'],\n",
    "            'position' : racer['position'],\n",
    "            'wins' : racer['wins'],\n",
    "            'DOB' : racer['Driver']['dateofBirth'],\n",
    "            'nationality' : racer['Driver']['natiionality'],\n",
    "            'constructor' : racer['Constructors'][0]['name']\n",
    "        }\n",
    "        new_date.append(racer_dict)\n",
    "    return new_data\n",
    "\n",
    "get_racer_info(data)"
   ]
  },
  {
   "cell_type": "code",
   "execution_count": 28,
   "id": "3740c752",
   "metadata": {},
   "outputs": [
    {
     "ename": "NameError",
     "evalue": "name 'get_racer_info' is not defined",
     "output_type": "error",
     "traceback": [
      "\u001b[1;31m---------------------------------------------------------------------------\u001b[0m",
      "\u001b[1;31mNameError\u001b[0m                                 Traceback (most recent call last)",
      "\u001b[1;32m~\\AppData\\Local\\Temp/ipykernel_21400/1153152798.py\u001b[0m in \u001b[0;36m<module>\u001b[1;34m\u001b[0m\n\u001b[0;32m      7\u001b[0m     \u001b[1;32mreturn\u001b[0m \u001b[1;34m\"That year/round combination is not valid\"\u001b[0m\u001b[1;33m\u001b[0m\u001b[1;33m\u001b[0m\u001b[0m\n\u001b[0;32m      8\u001b[0m \u001b[1;33m\u001b[0m\u001b[0m\n\u001b[1;32m----> 9\u001b[1;33m \u001b[0mget_driver_info_by_year_and_round\u001b[0m\u001b[1;33m(\u001b[0m\u001b[1;36m2022\u001b[0m\u001b[1;33m,\u001b[0m \u001b[1;36m1\u001b[0m\u001b[1;33m)\u001b[0m\u001b[1;33m\u001b[0m\u001b[1;33m\u001b[0m\u001b[0m\n\u001b[0m",
      "\u001b[1;32m~\\AppData\\Local\\Temp/ipykernel_21400/1153152798.py\u001b[0m in \u001b[0;36mget_driver_info_by_year_and_round\u001b[1;34m(year, r)\u001b[0m\n\u001b[0;32m      4\u001b[0m     \u001b[1;32mif\u001b[0m \u001b[0mresponse\u001b[0m\u001b[1;33m.\u001b[0m\u001b[0mok\u001b[0m\u001b[1;33m:\u001b[0m\u001b[1;33m\u001b[0m\u001b[1;33m\u001b[0m\u001b[0m\n\u001b[0;32m      5\u001b[0m         \u001b[0mdata\u001b[0m \u001b[1;33m=\u001b[0m \u001b[0mresponse\u001b[0m\u001b[1;33m.\u001b[0m\u001b[0mjson\u001b[0m\u001b[1;33m(\u001b[0m\u001b[1;33m)\u001b[0m\u001b[1;33m\u001b[0m\u001b[1;33m\u001b[0m\u001b[0m\n\u001b[1;32m----> 6\u001b[1;33m         \u001b[1;32mreturn\u001b[0m \u001b[0mget_racer_info\u001b[0m\u001b[1;33m(\u001b[0m\u001b[0mdata\u001b[0m\u001b[1;33m)\u001b[0m\u001b[1;33m\u001b[0m\u001b[1;33m\u001b[0m\u001b[0m\n\u001b[0m\u001b[0;32m      7\u001b[0m     \u001b[1;32mreturn\u001b[0m \u001b[1;34m\"That year/round combination is not valid\"\u001b[0m\u001b[1;33m\u001b[0m\u001b[1;33m\u001b[0m\u001b[0m\n\u001b[0;32m      8\u001b[0m \u001b[1;33m\u001b[0m\u001b[0m\n",
      "\u001b[1;31mNameError\u001b[0m: name 'get_racer_info' is not defined"
     ]
    }
   ],
   "source": [
    "def get_driver_info_by_year_and_round(year, r):\n",
    "    url = f\"http://ergast.com/api/f1/2008/5/driverStandings.json\"\n",
    "    response = requests.get(url)\n",
    "    if response.ok:\n",
    "        data = response.json()\n",
    "        return get_racer_info(data)\n",
    "    return \"That year/round combination is not valid\"\n",
    "\n",
    "get_driver_info_by_year_and_round(2022, 1)"
   ]
  },
  {
   "cell_type": "markdown",
   "id": "6d546014",
   "metadata": {},
   "source": [
    "# <strong>Homework</strong>\n",
    "check out this Pokemon API https://pokeapi.co/\n",
    "Use the requests package to connect to this API and get and store data for 5 different pokemon.\n",
    "Get the pokemons: name, atleast one ability's name, base_experience, and the URL for its sprite (an image that shows up on screen) for the 'front_shiny', attack base_state, hp base_stat, defense base_stat"
   ]
  },
  {
   "cell_type": "code",
   "execution_count": 4,
   "id": "d5cec891",
   "metadata": {},
   "outputs": [],
   "source": [
    "# import requests"
   ]
  },
  {
   "cell_type": "code",
   "execution_count": null,
   "id": "a426e600",
   "metadata": {},
   "outputs": [],
   "source": [
    "#help(requests)"
   ]
  },
  {
   "cell_type": "code",
   "execution_count": 64,
   "id": "f6ae2c8e",
   "metadata": {},
   "outputs": [],
   "source": [
    "# url = \"https://pokeapi.co/api/v2/pokemon/ditto\""
   ]
  },
  {
   "cell_type": "code",
   "execution_count": 65,
   "id": "5a9081e3",
   "metadata": {},
   "outputs": [
    {
     "name": "stdout",
     "output_type": "stream",
     "text": [
      "<Response [200]>\n"
     ]
    }
   ],
   "source": [
    "r = requests.get(\"http://pokeapi.co/api/v2/pokemon/ditto\")\n",
    "response = requests.get(url)\n",
    "print(r)"
   ]
  },
  {
   "cell_type": "code",
   "execution_count": 14,
   "id": "31b75731",
   "metadata": {},
   "outputs": [
    {
     "name": "stdout",
     "output_type": "stream",
     "text": [
      "200\n",
      "True\n"
     ]
    }
   ],
   "source": [
    "print(response.status_code)\n",
    "print(response.ok)"
   ]
  },
  {
   "cell_type": "code",
   "execution_count": 7,
   "id": "8b3edba1",
   "metadata": {},
   "outputs": [
    {
     "name": "stdout",
     "output_type": "stream",
     "text": [
      "ditto\n"
     ]
    }
   ],
   "source": [
    "pokemon1 = r.json()['forms'][0]['name']\n",
    "print(pokemon1)"
   ]
  },
  {
   "cell_type": "code",
   "execution_count": 17,
   "id": "543fa80e",
   "metadata": {},
   "outputs": [
    {
     "data": {
      "text/plain": [
       "dict"
      ]
     },
     "execution_count": 17,
     "metadata": {},
     "output_type": "execute_result"
    }
   ],
   "source": [
    "type(response.json())"
   ]
  },
  {
   "cell_type": "code",
   "execution_count": 63,
   "id": "7461a0e6",
   "metadata": {},
   "outputs": [
    {
     "name": "stdout",
     "output_type": "stream",
     "text": [
      "Pokemon name is ditto\n",
      "One ability is imposter\n",
      "base_experience 101\n",
      "sprite url https://raw.githubusercontent.com/PokeAPI/sprites/master/sprites/pokemon/shiny/132.png\n",
      "attack url https://pokeapi.co/api/v2/stat/2/\n",
      "hp url https://pokeapi.co/api/v2/stat/1/\n",
      "defense url https://pokeapi.co/api/v2/stat/3/\n"
     ]
    }
   ],
   "source": [
    "We need Name, Abilty's Name, base_experience, URL for its sprite, attack base-stat, hp base_stat and defense base_stat\n",
    "pokemon1_name = r.json()['forms'][0]['name']\n",
    "print(f\"Pokemon name is {pokemon1_name}\")\n",
    "pokemon1_ability = r.json()['abilities'][1]['ability']['name']\n",
    "print(f\"One ability is {pokemon1_ability}\")\n",
    "pokemon1_base_experience = r.json()['base_experience']\n",
    "print(f\"base_experience {pokemon1_base_experience}\")\n",
    "pokemon1_sprite = r.json()['sprites']['front_shiny'] \n",
    "print(f\"sprite url {pokemon1_sprite}\")\n",
    "pokemon1_attack = r.json()['stats'][1]['stat']['url']\n",
    "print(f\"attack url {pokemon1_attack}\")\n",
    "pokemon1_hp = r.json()['stats'][0]['stat']['url']\n",
    "print(f\"hp url {pokemon1_hp}\")\n",
    "pokemon1_defense = r.json()['stats'][2]['stat']['url']\n",
    "print(f\"defense url {pokemon1_defense}\")"
   ]
  },
  {
   "cell_type": "code",
   "execution_count": null,
   "id": "601a1454",
   "metadata": {},
   "outputs": [],
   "source": [
    "# import requests"
   ]
  },
  {
   "cell_type": "code",
   "execution_count": 68,
   "id": "3260cc9a",
   "metadata": {},
   "outputs": [
    {
     "name": "stdout",
     "output_type": "stream",
     "text": [
      "<Response [200]>\n"
     ]
    }
   ],
   "source": [
    "r = requests.get(\"http://pokeapi.co/api/v2/pokemon/weedle\")\n",
    "response = requests.get(url)\n",
    "print(r)"
   ]
  },
  {
   "cell_type": "code",
   "execution_count": 69,
   "id": "8632a425",
   "metadata": {},
   "outputs": [
    {
     "name": "stdout",
     "output_type": "stream",
     "text": [
      "200\n",
      "True\n"
     ]
    }
   ],
   "source": [
    "print(response.status_code)\n",
    "print(response.ok)"
   ]
  },
  {
   "cell_type": "code",
   "execution_count": 70,
   "id": "4ccacff0",
   "metadata": {},
   "outputs": [
    {
     "name": "stdout",
     "output_type": "stream",
     "text": [
      "weedle\n"
     ]
    }
   ],
   "source": [
    "pokemon2 = r.json()['forms'][0]['name']\n",
    "print(pokemon2)"
   ]
  },
  {
   "cell_type": "code",
   "execution_count": 72,
   "id": "9e597a99",
   "metadata": {},
   "outputs": [
    {
     "name": "stdout",
     "output_type": "stream",
     "text": [
      "Pokemon name is weedle\n",
      "One ability is shield-dust\n",
      "base_experience 39\n",
      "sprite url https://raw.githubusercontent.com/PokeAPI/sprites/master/sprites/pokemon/shiny/13.png\n",
      "attack url https://pokeapi.co/api/v2/stat/2/\n",
      "hp url https://pokeapi.co/api/v2/stat/1/\n",
      "defense url https://pokeapi.co/api/v2/stat/3/\n"
     ]
    }
   ],
   "source": [
    "pokemon2_name = r.json()['forms'][0]['name']\n",
    "print(f\"Pokemon name is {pokemon2_name}\")\n",
    "pokemon2_ability = r.json()['abilities'][0]['ability']['name']\n",
    "print(f\"One ability is {pokemon2_ability}\")\n",
    "pokemon2_base_experience = r.json()['base_experience']\n",
    "print(f\"base_experience {pokemon2_base_experience}\")\n",
    "pokemon2_sprite = r.json()['sprites']['front_shiny'] \n",
    "print(f\"sprite url {pokemon2_sprite}\")\n",
    "pokemon2_attack = r.json()['stats'][1]['stat']['url']\n",
    "print(f\"attack url {pokemon2_attack}\")\n",
    "pokemon2_hp = r.json()['stats'][0]['stat']['url']\n",
    "print(f\"hp url {pokemon2_hp}\")\n",
    "pokemon2_defense = r.json()['stats'][2]['stat']['url']\n",
    "print(f\"defense url {pokemon2_defense}\")"
   ]
  },
  {
   "cell_type": "code",
   "execution_count": null,
   "id": "48368174",
   "metadata": {},
   "outputs": [],
   "source": [
    "import requests"
   ]
  },
  {
   "cell_type": "code",
   "execution_count": 40,
   "id": "96bd1a3d",
   "metadata": {},
   "outputs": [
    {
     "name": "stdout",
     "output_type": "stream",
     "text": [
      "<Response [200]>\n"
     ]
    }
   ],
   "source": [
    "r = requests.get(\"http://pokeapi.co/api/v2/pokemon/ivysaur\")\n",
    "response = requests.get('http://pokeapi.co/api/v2/pokemon/ivysaur')\n",
    "print(r)"
   ]
  },
  {
   "cell_type": "code",
   "execution_count": 50,
   "id": "982aaec5",
   "metadata": {},
   "outputs": [],
   "source": [
    "# print(response.status_code)\n",
    "# print(response.ok)"
   ]
  },
  {
   "cell_type": "code",
   "execution_count": 51,
   "id": "986dcb10",
   "metadata": {},
   "outputs": [
    {
     "name": "stdout",
     "output_type": "stream",
     "text": [
      "ivysaur\n"
     ]
    }
   ],
   "source": [
    "pokemon3 = r.json()['forms'][0]['name']\n",
    "print(pokemon3)"
   ]
  },
  {
   "cell_type": "code",
   "execution_count": 52,
   "id": "c6dc848e",
   "metadata": {},
   "outputs": [
    {
     "name": "stdout",
     "output_type": "stream",
     "text": [
      "Pokemon name is ivysaur\n",
      "One ability is chlorophyll\n",
      "base_experience 142\n",
      "sprite url https://raw.githubusercontent.com/PokeAPI/sprites/master/sprites/pokemon/shiny/2.png\n",
      "attack url https://pokeapi.co/api/v2/stat/2/\n",
      "hp url https://pokeapi.co/api/v2/stat/1/\n",
      "defense url https://pokeapi.co/api/v2/stat/3/\n"
     ]
    }
   ],
   "source": [
    "pokemon3_name = r.json()['forms'][0]['name']\n",
    "print(f\"Pokemon name is {pokemon3_name}\")\n",
    "pokemon3_ability = r.json()['abilities'][1]['ability']['name']\n",
    "print(f\"One ability is {pokemon3_ability}\")\n",
    "pokemon3_base_experience = r.json()['base_experience']\n",
    "print(f\"base_experience {pokemon3_base_experience}\")\n",
    "pokemon3_sprite = r.json()['sprites']['front_shiny'] \n",
    "print(f\"sprite url {pokemon3_sprite}\")\n",
    "pokemon3_attack = r.json()['stats'][1]['stat']['url']\n",
    "print(f\"attack url {pokemon3_attack}\")\n",
    "pokemon3_hp = r.json()['stats'][0]['stat']['url']\n",
    "print(f\"hp url {pokemon3_hp}\")\n",
    "pokemon3_defense = r.json()['stats'][2]['stat']['url']\n",
    "print(f\"defense url {pokemon3_defense}\")"
   ]
  },
  {
   "cell_type": "code",
   "execution_count": null,
   "id": "11bd4704",
   "metadata": {
    "scrolled": true
   },
   "outputs": [],
   "source": [
    "import requests"
   ]
  },
  {
   "cell_type": "code",
   "execution_count": 53,
   "id": "d7b9d1b3",
   "metadata": {},
   "outputs": [
    {
     "name": "stdout",
     "output_type": "stream",
     "text": [
      "<Response [200]>\n"
     ]
    }
   ],
   "source": [
    "r = requests.get(\"http://pokeapi.co/api/v2/pokemon/butterfree\")\n",
    "response = requests.get('http://pokeapi.co/api/v2/pokemon/butterfree')\n",
    "print(r)"
   ]
  },
  {
   "cell_type": "code",
   "execution_count": 55,
   "id": "0cee7222",
   "metadata": {},
   "outputs": [
    {
     "name": "stdout",
     "output_type": "stream",
     "text": [
      "butterfree\n"
     ]
    }
   ],
   "source": [
    "pokemon4 = r.json()['forms'][0]['name']\n",
    "print(pokemon4)"
   ]
  },
  {
   "cell_type": "code",
   "execution_count": 56,
   "id": "a340aa4e",
   "metadata": {},
   "outputs": [
    {
     "name": "stdout",
     "output_type": "stream",
     "text": [
      "Pokemon name is butterfree\n",
      "One ability is compound-eyes\n",
      "base_experience 198\n",
      "sprite url https://raw.githubusercontent.com/PokeAPI/sprites/master/sprites/pokemon/shiny/12.png\n",
      "attack url https://pokeapi.co/api/v2/stat/2/\n",
      "hp url https://pokeapi.co/api/v2/stat/1/\n",
      "defense url https://pokeapi.co/api/v2/stat/3/\n"
     ]
    }
   ],
   "source": [
    "pokemon4_name = r.json()['forms'][0]['name']\n",
    "print(f\"Pokemon name is {pokemon4_name}\")\n",
    "pokemon4_ability = r.json()['abilities'][0]['ability']['name']\n",
    "print(f\"One ability is {pokemon4_ability}\")\n",
    "pokemon4_base_experience = r.json()['base_experience']\n",
    "print(f\"base_experience {pokemon4_base_experience}\")\n",
    "pokemon4_sprite = r.json()['sprites']['front_shiny'] \n",
    "print(f\"sprite url {pokemon4_sprite}\")\n",
    "pokemon4_attack = r.json()['stats'][1]['stat']['url']\n",
    "print(f\"attack url {pokemon4_attack}\")\n",
    "pokemon4_hp = r.json()['stats'][0]['stat']['url']\n",
    "print(f\"hp url {pokemon4_hp}\")\n",
    "pokemon4_defense = r.json()['stats'][2]['stat']['url']\n",
    "print(f\"defense url {pokemon4_defense}\")"
   ]
  },
  {
   "cell_type": "code",
   "execution_count": null,
   "id": "531e0a14",
   "metadata": {},
   "outputs": [],
   "source": [
    "import requests"
   ]
  },
  {
   "cell_type": "code",
   "execution_count": 57,
   "id": "fb76032b",
   "metadata": {},
   "outputs": [
    {
     "name": "stdout",
     "output_type": "stream",
     "text": [
      "<Response [200]>\n"
     ]
    }
   ],
   "source": [
    "r = requests.get(\"https://pokeapi.co/api/v2/pokemon/raticate\")\n",
    "response = requests.get('https://pokeapi.co/api/v2/pokemon/raticate')\n",
    "print(r)"
   ]
  },
  {
   "cell_type": "code",
   "execution_count": 58,
   "id": "64ee4923",
   "metadata": {},
   "outputs": [
    {
     "name": "stdout",
     "output_type": "stream",
     "text": [
      "raticate\n"
     ]
    }
   ],
   "source": [
    "pokemon5 = r.json()['forms'][0]['name']\n",
    "print(pokemon5)"
   ]
  },
  {
   "cell_type": "code",
   "execution_count": 59,
   "id": "90791b10",
   "metadata": {},
   "outputs": [
    {
     "name": "stdout",
     "output_type": "stream",
     "text": [
      "Pokemon name is raticate\n",
      "One ability is run-away\n",
      "base_experience 145\n",
      "sprite url https://raw.githubusercontent.com/PokeAPI/sprites/master/sprites/pokemon/shiny/20.png\n",
      "attack url https://pokeapi.co/api/v2/stat/2/\n",
      "hp url https://pokeapi.co/api/v2/stat/1/\n",
      "defense url https://pokeapi.co/api/v2/stat/3/\n"
     ]
    }
   ],
   "source": [
    "pokemon5_name = r.json()['forms'][0]['name']\n",
    "print(f\"Pokemon name is {pokemon5_name}\")\n",
    "pokemon5_ability = r.json()['abilities'][0]['ability']['name']\n",
    "print(f\"One ability is {pokemon5_ability}\")\n",
    "pokemon5_base_experience = r.json()['base_experience']\n",
    "print(f\"base_experience {pokemon5_base_experience}\")\n",
    "pokemon5_sprite = r.json()['sprites']['front_shiny'] \n",
    "print(f\"sprite url {pokemon5_sprite}\")\n",
    "pokemon5_attack = r.json()['stats'][1]['stat']['url']\n",
    "print(f\"attack url {pokemon5_attack}\")\n",
    "pokemon5_hp = r.json()['stats'][0]['stat']['url']\n",
    "print(f\"hp url {pokemon5_hp}\")\n",
    "pokemon5_defense = r.json()['stats'][2]['stat']['url']\n",
    "print(f\"defense url {pokemon5_defense}\")"
   ]
  },
  {
   "cell_type": "code",
   "execution_count": null,
   "id": "d0be1fd8",
   "metadata": {},
   "outputs": [],
   "source": []
  }
 ],
 "metadata": {
  "kernelspec": {
   "display_name": "Python 3 (ipykernel)",
   "language": "python",
   "name": "python3"
  },
  "language_info": {
   "codemirror_mode": {
    "name": "ipython",
    "version": 3
   },
   "file_extension": ".py",
   "mimetype": "text/x-python",
   "name": "python",
   "nbconvert_exporter": "python",
   "pygments_lexer": "ipython3",
   "version": "3.9.12"
  },
  "vscode": {
   "interpreter": {
    "hash": "de0930bc5066196bffe2d45391797cfa90f4caf2cdbda40b5fadc81ac81e4579"
   }
  }
 },
 "nbformat": 4,
 "nbformat_minor": 5
}
